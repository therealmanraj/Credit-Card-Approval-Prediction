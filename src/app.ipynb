{
 "cells": [
  {
   "cell_type": "code",
   "execution_count": 13,
   "id": "cab99d00",
   "metadata": {},
   "outputs": [
    {
     "name": "stdout",
     "output_type": "stream",
     "text": [
      "Test data loaded successfully from artifacts/data\n",
      "Data Ingestion done successfully.\n"
     ]
    },
    {
     "ename": "ValueError",
     "evalue": "too many values to unpack (expected 2)",
     "output_type": "error",
     "traceback": [
      "\u001b[0;31m---------------------------------------------------------------------------\u001b[0m",
      "\u001b[0;31mValueError\u001b[0m                                Traceback (most recent call last)",
      "Cell \u001b[0;32mIn[13], line 19\u001b[0m\n\u001b[1;32m     17\u001b[0m DataTransformationConfig \u001b[38;5;241m=\u001b[39m DataTransformationConfig()\n\u001b[1;32m     18\u001b[0m data_pipeline \u001b[38;5;241m=\u001b[39m DataPipeline()\n\u001b[0;32m---> 19\u001b[0m train_df, test_df \u001b[38;5;241m=\u001b[39m data_pipeline\u001b[38;5;241m.\u001b[39mdata_transformation(train, test)\n\u001b[1;32m     20\u001b[0m \u001b[38;5;28mprint\u001b[39m(\u001b[38;5;124m\"\u001b[39m\u001b[38;5;124mData Transformation done successfully.\u001b[39m\u001b[38;5;124m\"\u001b[39m)\n\u001b[1;32m     22\u001b[0m ModelTrainerConfig \u001b[38;5;241m=\u001b[39m ModelTrainerConfig()\n",
      "\u001b[0;31mValueError\u001b[0m: too many values to unpack (expected 2)"
     ]
    }
   ],
   "source": [
    "from components.data_ingestion import DataIngestion, DataIngestionConfig\n",
    "from components.data_pipeline import DataTransformationConfig, DataPipeline\n",
    "from components.model_training import ModelTrainer, ModelTrainerConfig\n",
    "\n",
    "from app_logger.logger import logging\n",
    "\n",
    "import pandas as pd\n",
    "pd.set_option('display.max_columns', None)\n",
    "\n",
    "# Before running change the directory to the src folder\n",
    "DataIngestionConfig = DataIngestionConfig()\n",
    "data_ingest = DataIngestion()\n",
    "train, test = data_ingest.load_data()\n",
    "print(\"Data Ingestion done successfully.\")\n",
    "predict = train.head(1)\n",
    "\n",
    "DataTransformationConfig = DataTransformationConfig()\n",
    "data_pipeline = DataPipeline()\n",
    "train_df, test_df = data_pipeline.data_transformation(train, test)\n",
    "print(\"Data Transformation done successfully.\")\n",
    "\n",
    "ModelTrainerConfig = ModelTrainerConfig()\n",
    "model_training = ModelTrainer()\n",
    "model_training.initiate_model_trainer(train_df)\n",
    "print(\"Model Training done successfully.\")\n",
    "\n",
    "pred = model_training.initiate_model_prediction(test_df)\n",
    "print(\"Model Prediction done successfully.\")\n",
    "\n",
    "transformed = data_pipeline.transformation(predict)\n",
    "print(\"Predict Data Transformation done successfully.\")\n",
    "\n",
    "pred = model_training.predict(test_df)\n",
    "print(\"Model Prediction done successfully.\")\n",
    "print(f\"Predicted data: {pred}\")"
   ]
  }
 ],
 "metadata": {
  "kernelspec": {
   "display_name": "Python 3",
   "language": "python",
   "name": "python3"
  },
  "language_info": {
   "codemirror_mode": {
    "name": "ipython",
    "version": 3
   },
   "file_extension": ".py",
   "mimetype": "text/x-python",
   "name": "python",
   "nbconvert_exporter": "python",
   "pygments_lexer": "ipython3",
   "version": "3.12.0"
  }
 },
 "nbformat": 4,
 "nbformat_minor": 5
}
